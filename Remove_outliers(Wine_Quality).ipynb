{
  "nbformat": 4,
  "nbformat_minor": 0,
  "metadata": {
    "colab": {
      "provenance": [],
      "include_colab_link": true
    },
    "kernelspec": {
      "name": "python3",
      "display_name": "Python 3"
    },
    "language_info": {
      "name": "python"
    }
  },
  "cells": [
    {
      "cell_type": "markdown",
      "metadata": {
        "id": "view-in-github",
        "colab_type": "text"
      },
      "source": [
        "<a href=\"https://colab.research.google.com/github/soudeep-web/Assignment-03/blob/main/Remove_outliers(Wine_Quality).ipynb\" target=\"_parent\"><img src=\"https://colab.research.google.com/assets/colab-badge.svg\" alt=\"Open In Colab\"/></a>"
      ]
    },
    {
      "cell_type": "code",
      "execution_count": null,
      "metadata": {
        "id": "FMTocvTkIqL1"
      },
      "outputs": [],
      "source": [
        "#Import all packages and libraries\n",
        "import numpy as np\n",
        "import pandas as pd\n",
        "from matplotlib import pyplot as plt\n",
        "import seaborn as sns"
      ]
    },
    {
      "cell_type": "code",
      "source": [
        "#Import file\n",
        "data=pd.read_csv(\"/content/winequality-red.csv\")\n",
        "data.head()\n",
        "data.tail()"
      ],
      "metadata": {
        "id": "gsdJu6U0Iqx4"
      },
      "execution_count": null,
      "outputs": []
    },
    {
      "cell_type": "code",
      "source": [
        "#All outliers diagram\n",
        "plt.boxplot(data)\n",
        "plt.xlabel(\"Dataset\")\n",
        "plt.ylabel(\"Values\")\n",
        "plt.title(\"Before removing outliers\")\n",
        "plt.show()"
      ],
      "metadata": {
        "id": "PQbWP8ScIq3C"
      },
      "execution_count": null,
      "outputs": []
    },
    {
      "cell_type": "code",
      "source": [
        "# Data-column\n",
        "data.columns\n",
        "\n",
        "# Data-types\n",
        "data.dtypes\n",
        "\n",
        "# Data-describe\n",
        "data.describe()"
      ],
      "metadata": {
        "id": "B1Y9U33kIq5q"
      },
      "execution_count": null,
      "outputs": []
    },
    {
      "cell_type": "code",
      "source": [],
      "metadata": {
        "id": "W7JDruNbLvbs"
      },
      "execution_count": null,
      "outputs": []
    },
    {
      "cell_type": "code",
      "source": [
        "# 1. Fixed Acidity\n",
        "Q1_facidity = np.percentile(data[\"fixed acidity\"],25)\n",
        "Q3_facidity = np.percentile(data[\"fixed acidity\"],75)\n",
        "IQR_facidity = Q3_facidity - Q1_facidity\n",
        "Upper_facidity = Q3_facidity + 1.5 * IQR_facidity\n",
        "Lower_facidity = Q1_facidity - 1.5 * IQR_facidity\n",
        "fixed=\"fixed acidity\""
      ],
      "metadata": {
        "id": "NIHuLjzmJbaw"
      },
      "execution_count": null,
      "outputs": []
    },
    {
      "cell_type": "code",
      "source": [
        "# 1. Fixed Acidity\n",
        "Outliers_facidity_indices = data[(data[fixed]<Lower_facidity) | (data[fixed]>Upper_facidity)].index\n",
        "print(Outliers_facidity_indices)\n",
        "\n",
        "# Remove Outliers\n",
        "# 1. Fixed Acidity\n",
        "remove_facidity = data.drop(Outliers_facidity_indices, inplace = True)"
      ],
      "metadata": {
        "id": "4ZmWToA0JbUA"
      },
      "execution_count": null,
      "outputs": []
    },
    {
      "cell_type": "code",
      "source": [
        "plt.boxplot(data[\"fixed acidity\"])\n",
        "plt.title(\"After removing outliers\")\n",
        "plt.show()"
      ],
      "metadata": {
        "id": "11t6ugzyIrBQ"
      },
      "execution_count": null,
      "outputs": []
    },
    {
      "cell_type": "code",
      "source": [],
      "metadata": {
        "id": "bQhWU7GmLuUv"
      },
      "execution_count": null,
      "outputs": []
    },
    {
      "cell_type": "code",
      "source": [
        "# 2. Volatile Acidity\n",
        "Q1_vacidity = np.percentile(data[\"volatile acidity\"],25)\n",
        "Q3_vacidity = np.percentile(data[\"volatile acidity\"],75)\n",
        "IQR_vacidity = Q3_vacidity - Q1_vacidity\n",
        "Upper_vacidity = Q3_vacidity + 1.5 * IQR_vacidity\n",
        "Lower_vacidity = Q1_vacidity - 1.5 * IQR_vacidity\n",
        "volatile=\"volatile acidity\""
      ],
      "metadata": {
        "id": "3JU7g4caLRs5"
      },
      "execution_count": null,
      "outputs": []
    },
    {
      "cell_type": "code",
      "source": [
        "# 2. Volatile Acidity\n",
        "Outliers_vacidity_indices = data[(data[volatile]<Lower_vacidity) | (data[volatile]>Upper_vacidity)].index\n",
        "print(Outliers_vacidity_indices)\n",
        "\n",
        "# 2. Volatile Acidity\n",
        "remove_vacidity = data.drop(Outliers_vacidity_indices, inplace= True)"
      ],
      "metadata": {
        "id": "Z-uA9iStIrD2",
        "colab": {
          "base_uri": "https://localhost:8080/"
        },
        "outputId": "75177854-7025-43e1-d897-4f07ead46458"
      },
      "execution_count": null,
      "outputs": [
        {
          "output_type": "stream",
          "name": "stdout",
          "text": [
            "Int64Index([], dtype='int64')\n"
          ]
        }
      ]
    },
    {
      "cell_type": "code",
      "source": [
        "plt.boxplot(data[\"volatile acidity\"])\n",
        "plt.title(\"After removing outliers\")\n",
        "plt.show()"
      ],
      "metadata": {
        "id": "7fQJ7L9NLVkC"
      },
      "execution_count": null,
      "outputs": []
    },
    {
      "cell_type": "code",
      "source": [],
      "metadata": {
        "id": "EoSEkUADLxuo"
      },
      "execution_count": null,
      "outputs": []
    },
    {
      "cell_type": "code",
      "source": [
        "# 3. Citric Acid\n",
        "Q1_acid = np.percentile(data[\"citric acid\"],25)\n",
        "Q3_acid = np.percentile(data[\"citric acid\"],75)\n",
        "IQR_acid = Q3_acid - Q1_acid\n",
        "Upper_acid = Q3_acid + 1.5 * IQR_acid\n",
        "Lower_acid = Q1_acid - 1.5 * IQR_acid\n",
        "citric=\"citric acid\""
      ],
      "metadata": {
        "id": "cMMngJxkLxfr"
      },
      "execution_count": null,
      "outputs": []
    },
    {
      "cell_type": "code",
      "source": [
        "# 3. Citric Acid\n",
        "Outliers_citric_indices = data[(data[citric]<Lower_acid) | (data[citric]>Upper_acid)].index\n",
        "print(Outliers_citric_indices)\n",
        "\n",
        "# 3. Citric Acid\n",
        "remove_citric = data.drop(Outliers_citric_indices, inplace = True)"
      ],
      "metadata": {
        "colab": {
          "base_uri": "https://localhost:8080/"
        },
        "id": "kdvI_u9SLxMA",
        "outputId": "80d1b7c3-e52a-4edb-9a2f-14b40a26879e"
      },
      "execution_count": null,
      "outputs": [
        {
          "output_type": "stream",
          "name": "stdout",
          "text": [
            "Int64Index([], dtype='int64')\n"
          ]
        }
      ]
    },
    {
      "cell_type": "code",
      "source": [
        "plt.boxplot(data[\"citric acid\"])\n",
        "plt.title(\"After removing outliers\")\n",
        "plt.show()"
      ],
      "metadata": {
        "id": "tbJzE8ZQIrHC"
      },
      "execution_count": null,
      "outputs": []
    },
    {
      "cell_type": "code",
      "source": [],
      "metadata": {
        "id": "f2oLOeoJL3nc"
      },
      "execution_count": null,
      "outputs": []
    },
    {
      "cell_type": "code",
      "source": [
        "# 4. Residual Sugar\n",
        "Q1_sugar = np.percentile(data[\"residual sugar\"],25)\n",
        "Q3_sugar = np.percentile(data[\"residual sugar\"],75)\n",
        "IQR_sugar = Q3_sugar - Q1_sugar\n",
        "Upper_sugar = Q3_sugar + 1.5 * IQR_sugar\n",
        "Lower_sugar = Q1_sugar - 1.5 * IQR_sugar\n",
        "sugar=\"residual sugar\"\n"
      ],
      "metadata": {
        "id": "VGdj_iG8L_9_"
      },
      "execution_count": null,
      "outputs": []
    },
    {
      "cell_type": "code",
      "source": [
        "# 4.  Residual Sugar\n",
        "Outliers_sugar_indices = data[(data[sugar]<Lower_sugar) | (data[sugar]>Upper_sugar)].index\n",
        "print(Outliers_sugar_indices)\n",
        "\n",
        "# 4.  Residual Sugar\n",
        "remove_sugar = data.drop(Outliers_sugar_indices, inplace = True)"
      ],
      "metadata": {
        "colab": {
          "base_uri": "https://localhost:8080/"
        },
        "id": "u-u0NQIiL_xn",
        "outputId": "e88c0746-fb21-434e-eb72-45f4c24af4ce"
      },
      "execution_count": null,
      "outputs": [
        {
          "output_type": "stream",
          "name": "stdout",
          "text": [
            "Int64Index([], dtype='int64')\n"
          ]
        }
      ]
    },
    {
      "cell_type": "code",
      "source": [
        "plt.boxplot(data[\"residual sugar\"])\n",
        "plt.title(\"After removing outliers\")\n",
        "plt.show()"
      ],
      "metadata": {
        "id": "zsSTh4w1IrJ6"
      },
      "execution_count": null,
      "outputs": []
    },
    {
      "cell_type": "code",
      "source": [],
      "metadata": {
        "id": "ndZdTR1zMHeo"
      },
      "execution_count": null,
      "outputs": []
    },
    {
      "cell_type": "code",
      "source": [
        "# 5. Clorides\n",
        "Q1_clorides = np.percentile(data[\"chlorides\"],25)\n",
        "Q3_clorides = np.percentile(data[\"chlorides\"],75)\n",
        "IQR_clorides = Q3_clorides - Q1_clorides\n",
        "Upper_clorides = Q3_clorides + 1.5 * IQR_clorides\n",
        "Lower_clorides = Q1_clorides - 1.5 * IQR_clorides\n",
        "cloride=\"chlorides\""
      ],
      "metadata": {
        "id": "-_ddilWPMHT6"
      },
      "execution_count": null,
      "outputs": []
    },
    {
      "cell_type": "code",
      "source": [
        "# 5. Clorides\n",
        "Outliers_cloride_indices = data[(data[cloride]<Lower_clorides) | (data[cloride]>Upper_clorides)].index\n",
        "print(Outliers_cloride_indices)\n",
        "\n",
        "# 5. Clorides\n",
        "remove_clorides = data.drop(Outliers_cloride_indices, inplace = True)"
      ],
      "metadata": {
        "colab": {
          "base_uri": "https://localhost:8080/"
        },
        "id": "r7iZVS9yMHH8",
        "outputId": "de7a81d9-1d08-4476-b42b-a04557c047e2"
      },
      "execution_count": null,
      "outputs": [
        {
          "output_type": "stream",
          "name": "stdout",
          "text": [
            "Int64Index([], dtype='int64')\n"
          ]
        }
      ]
    },
    {
      "cell_type": "code",
      "source": [
        "plt.boxplot(data[\"chlorides\"])\n",
        "plt.title(\"After removing outliers\")\n",
        "plt.show()"
      ],
      "metadata": {
        "id": "Om6Q0DurIrMo"
      },
      "execution_count": null,
      "outputs": []
    },
    {
      "cell_type": "code",
      "source": [],
      "metadata": {
        "id": "gh6sO_gXMQ1p"
      },
      "execution_count": null,
      "outputs": []
    },
    {
      "cell_type": "code",
      "source": [
        "# 6. Free Sulfur Dioxide\n",
        "Q1_fsulfer = np.percentile(data[\"free sulfur dioxide\"],25)\n",
        "Q3_fsulfer = np.percentile(data[\"free sulfur dioxide\"],75)\n",
        "IQR_fsulfer = Q3_fsulfer - Q1_fsulfer\n",
        "Upper_fsulfer = Q3_fsulfer + 1.5 * IQR_fsulfer\n",
        "Lower_fsulfer = Q1_fsulfer - 1.5 * IQR_fsulfer\n",
        "free=\"free sulfur dioxide\""
      ],
      "metadata": {
        "id": "PJKx4RBSMQtD"
      },
      "execution_count": null,
      "outputs": []
    },
    {
      "cell_type": "code",
      "source": [
        "# 6. Free Sulfur Dioxide\n",
        "Outliers_free_indices = data[(data[free]<Lower_fsulfer) | (data[free]>Upper_fsulfer)].index\n",
        "print(Outliers_free_indices)\n",
        "\n",
        "# 6. Free Sulfur Dioxide\n",
        "remove_free = data.drop(Outliers_free_indices, inplace = True)"
      ],
      "metadata": {
        "colab": {
          "base_uri": "https://localhost:8080/"
        },
        "id": "l6Z6S1zsMQkO",
        "outputId": "13befa64-b2b1-48a1-909f-de1e2bab701b"
      },
      "execution_count": null,
      "outputs": [
        {
          "output_type": "stream",
          "name": "stdout",
          "text": [
            "Int64Index([343, 434, 916, 919, 1082, 1404, 1406, 1419, 1426, 1445, 1592], dtype='int64')\n"
          ]
        }
      ]
    },
    {
      "cell_type": "code",
      "source": [
        "plt.boxplot(data[\"free sulfur dioxide\"])\n",
        "plt.title(\"After removing outliers\")\n",
        "plt.show()"
      ],
      "metadata": {
        "id": "nt7MM0ZuIrPd"
      },
      "execution_count": null,
      "outputs": []
    },
    {
      "cell_type": "code",
      "source": [],
      "metadata": {
        "id": "zc1WfWP9MXSU"
      },
      "execution_count": null,
      "outputs": []
    },
    {
      "cell_type": "code",
      "source": [
        "# 7. Total Sulfur Dioxide\n",
        "Q1_tsulfer = np.percentile(data[\"total sulfur dioxide\"],25)\n",
        "Q3_tsulfer = np.percentile(data[\"total sulfur dioxide\"],75)\n",
        "IQR_tsulfer = Q3_tsulfer - Q1_tsulfer\n",
        "Upper_tsulfer = Q3_tsulfer + 1.5 * IQR_tsulfer\n",
        "Lower_tsulfer = Q1_tsulfer - 1.5 * IQR_tsulfer\n",
        "total=\"total sulfur dioxide\""
      ],
      "metadata": {
        "id": "pJYJ1NXmMXHK"
      },
      "execution_count": null,
      "outputs": []
    },
    {
      "cell_type": "code",
      "source": [
        "# 7. Total Sulfur Dioxide\n",
        "Outliers_total_indices = data[(data[total]<Lower_tsulfer) | (data[total]>Upper_tsulfer)].index\n",
        "print(Outliers_total_indices)\n",
        "\n",
        "# 7. Total Sulfur Dioxide\n",
        "remove_total = data.drop(Outliers_total_indices, inplace=True)"
      ],
      "metadata": {
        "colab": {
          "base_uri": "https://localhost:8080/"
        },
        "id": "qyMAVt3wMW4W",
        "outputId": "b71ddde8-b1be-4f28-f14c-3515bf33e377"
      },
      "execution_count": null,
      "outputs": [
        {
          "output_type": "stream",
          "name": "stdout",
          "text": [
            "Int64Index([], dtype='int64')\n"
          ]
        }
      ]
    },
    {
      "cell_type": "code",
      "source": [
        "plt.boxplot(data[\"total sulfur dioxide\"])\n",
        "plt.title(\"After removing outliers\")\n",
        "plt.show()"
      ],
      "metadata": {
        "id": "cZRQCWpvIrSE",
        "colab": {
          "base_uri": "https://localhost:8080/",
          "height": 452
        },
        "outputId": "da4716d2-8c9c-4537-8818-a07eae9bb9a4"
      },
      "execution_count": null,
      "outputs": [
        {
          "output_type": "display_data",
          "data": {
            "text/plain": [
              "<Figure size 640x480 with 1 Axes>"
            ],
            "image/png": "[encoded data removed]"
          },
          "metadata": {}
        }
      ]
    },
    {
      "cell_type": "code",
      "source": [],
      "metadata": {
        "id": "-3siod6-MdbX"
      },
      "execution_count": null,
      "outputs": []
    },
    {
      "cell_type": "code",
      "source": [
        "# 8. Density\n",
        "Q1_density = np.percentile(data[\"density\"],25)\n",
        "Q3_density = np.percentile(data[\"density\"],75)\n",
        "IQR_density = Q3_density - Q1_density\n",
        "Upper_density = Q3_density + 1.5 * IQR_density\n",
        "Lower_density = Q1_density - 1.5 * IQR_density\n",
        "density=\"density\""
      ],
      "metadata": {
        "id": "SRD0BLGvK55h"
      },
      "execution_count": null,
      "outputs": []
    },
    {
      "cell_type": "code",
      "source": [
        "# 8. Density\n",
        "Outliers_density_indices = data[(data[density]<Lower_density) | (data[density]>Upper_density)].index\n",
        "print(Outliers_density_indices)\n",
        "\n",
        "# 8. Density\n",
        "remove_density = data.drop(Outliers_density_indices, inplace=True)"
      ],
      "metadata": {
        "id": "pvBbHGecIrUv",
        "colab": {
          "base_uri": "https://localhost:8080/"
        },
        "outputId": "c88ca857-f155-4b68-8b7b-73ddfeafa098"
      },
      "execution_count": null,
      "outputs": [
        {
          "output_type": "stream",
          "name": "stdout",
          "text": [
            "Int64Index([], dtype='int64')\n"
          ]
        }
      ]
    },
    {
      "cell_type": "code",
      "source": [
        "plt.boxplot(data[\"density\"])\n",
        "plt.title(\"After removing outliers\")\n",
        "plt.show()"
      ],
      "metadata": {
        "colab": {
          "base_uri": "https://localhost:8080/",
          "height": 452
        },
        "id": "EeTksB6CLEAS",
        "outputId": "6715620c-c623-43ef-e92c-cac7328ede64"
      },
      "execution_count": null,
      "outputs": [
        {
          "output_type": "display_data",
          "data": {
            "text/plain": [
              "<Figure size 640x480 with 1 Axes>"
            ],
            "image/png": "[encoded data removed]"
          },
          "metadata": {}
        }
      ]
    },
    {
      "cell_type": "code",
      "source": [],
      "metadata": {
        "id": "ppE0GUSnMlWy"
      },
      "execution_count": null,
      "outputs": []
    },
    {
      "cell_type": "code",
      "source": [
        "# 9. pH\n",
        "Q1_pH = np.percentile(data[\"pH\"],25)\n",
        "Q3_pH = np.percentile(data[\"pH\"],75)\n",
        "IQR_pH = Q3_pH - Q1_pH\n",
        "Upper_pH = Q3_pH + 1.5 * IQR_pH\n",
        "Lower_pH = Q1_pH - 1.5 * IQR_pH\n",
        "ph=\"pH\""
      ],
      "metadata": {
        "id": "edszUc7pMlNR"
      },
      "execution_count": null,
      "outputs": []
    },
    {
      "cell_type": "code",
      "source": [
        "# 9. pH\n",
        "Outliers_ph_indices = data[(data[ph]<Lower_pH) | (data[ph]>Upper_pH)].index\n",
        "print(Outliers_ph_indices)\n",
        "\n",
        "# 9. pH\n",
        "remove_ph = data.drop(Outliers_ph_indices, inplace = True)\n"
      ],
      "metadata": {
        "colab": {
          "base_uri": "https://localhost:8080/"
        },
        "id": "CHDwxHjhMlD3",
        "outputId": "a50cd329-87bd-47e2-a6c0-3eb2ab8d8238"
      },
      "execution_count": null,
      "outputs": [
        {
          "output_type": "stream",
          "name": "stdout",
          "text": [
            "Int64Index([], dtype='int64')\n"
          ]
        }
      ]
    },
    {
      "cell_type": "code",
      "source": [
        "plt.boxplot(data[\"pH\"])\n",
        "plt.title(\"After removing outliers\")\n",
        "plt.show()"
      ],
      "metadata": {
        "id": "pKAGqwqwIrXd"
      },
      "execution_count": null,
      "outputs": []
    },
    {
      "cell_type": "code",
      "source": [],
      "metadata": {
        "id": "V_jppattMq1A"
      },
      "execution_count": null,
      "outputs": []
    },
    {
      "cell_type": "code",
      "source": [
        "# 10. sulphates\n",
        "Q1_sulphates = np.percentile(data[\"sulphates\"],25)\n",
        "Q3_sulphates = np.percentile(data[\"sulphates\"],75)\n",
        "IQR_sulphates = Q3_sulphates - Q1_sulphates\n",
        "Upper_sulphates = Q3_sulphates + 1.5 * IQR_sulphates\n",
        "Lower_sulphates = Q1_sulphates - 1.5 * IQR_sulphates\n",
        "sulphate=\"sulphates\""
      ],
      "metadata": {
        "id": "7qET9dF2Mqq0"
      },
      "execution_count": null,
      "outputs": []
    },
    {
      "cell_type": "code",
      "source": [
        "# 10. sulphates\n",
        "Outliers_sulphates_indices = data[(data[sulphate]<Lower_sulphates) | (data[sulphate]>Upper_sulphates)].index\n",
        "print(Outliers_sulphates_indices)\n",
        "\n",
        "# 10. sulphates\n",
        "remove_sulphate = data.drop(Outliers_sulphates_indices, inplace = True)"
      ],
      "metadata": {
        "colab": {
          "base_uri": "https://localhost:8080/"
        },
        "id": "zDpFuQ-gMqe4",
        "outputId": "32153b92-5774-4fa3-dbf5-64b7c304eec4"
      },
      "execution_count": null,
      "outputs": [
        {
          "output_type": "stream",
          "name": "stdout",
          "text": [
            "Int64Index([], dtype='int64')\n"
          ]
        }
      ]
    },
    {
      "cell_type": "code",
      "source": [
        "plt.boxplot(data[\"sulphates\"])\n",
        "plt.title(\"After removing outliers\")\n",
        "plt.show()"
      ],
      "metadata": {
        "id": "EW-BzjWSIraG"
      },
      "execution_count": null,
      "outputs": []
    },
    {
      "cell_type": "code",
      "source": [],
      "metadata": {
        "id": "gegKV0XlMww3"
      },
      "execution_count": null,
      "outputs": []
    },
    {
      "cell_type": "code",
      "source": [
        "# 11. alcohol\n",
        "Q1_alcohol = np.percentile(data[\"alcohol\"],25)\n",
        "Q3_alcohol = np.percentile(data[\"alcohol\"],75)\n",
        "IQR_alcohol = Q3_alcohol - Q1_alcohol\n",
        "Upper_alcohol = Q3_alcohol + 1.5 * IQR_alcohol\n",
        "Lower_alcohol = Q1_alcohol - 1.5 * IQR_alcohol\n",
        "alcohol=\"alcohol\""
      ],
      "metadata": {
        "id": "oTYvZOQZMwmk"
      },
      "execution_count": null,
      "outputs": []
    },
    {
      "cell_type": "code",
      "source": [
        "# 11. alcohol\n",
        "Outliers_alcohol_indices = data[(data[alcohol]<Lower_alcohol) | (data[alcohol]>Upper_alcohol)].index\n",
        "print(Outliers_alcohol_indices)\n",
        "\n",
        "# 11. alcohol\n",
        "remove_alcohol = data.drop(Outliers_alcohol_indices, inplace = True)"
      ],
      "metadata": {
        "colab": {
          "base_uri": "https://localhost:8080/"
        },
        "id": "od0DHOLJMwbI",
        "outputId": "e419420e-6d58-42ae-da48-ce02277c330d"
      },
      "execution_count": null,
      "outputs": [
        {
          "output_type": "stream",
          "name": "stdout",
          "text": [
            "Int64Index([], dtype='int64')\n"
          ]
        }
      ]
    },
    {
      "cell_type": "code",
      "source": [
        "plt.boxplot(data[\"alcohol\"])\n",
        "plt.title(\"After removing outliers\")\n",
        "plt.show()"
      ],
      "metadata": {
        "id": "iABYr5BiIrco"
      },
      "execution_count": null,
      "outputs": []
    },
    {
      "cell_type": "code",
      "source": [],
      "metadata": {
        "id": "bjfUs4HQM27s"
      },
      "execution_count": null,
      "outputs": []
    },
    {
      "cell_type": "code",
      "source": [
        "# 12. quality\n",
        "Q1_quality = np.percentile(data[\"quality\"],25)\n",
        "Q3_quality = np.percentile(data[\"quality\"],75)\n",
        "IQR_quality = Q3_quality - Q1_quality\n",
        "Upper_quality = Q3_quality + 1.5 * IQR_quality\n",
        "Lower_quality = Q1_quality - 1.5 * IQR_quality\n",
        "quality=\"quality\""
      ],
      "metadata": {
        "id": "g1L2KoB5M2x9"
      },
      "execution_count": null,
      "outputs": []
    },
    {
      "cell_type": "code",
      "source": [
        "# 12. quality\n",
        "Outliers_quality_indices = data[(data[quality]<Lower_quality) | (data[quality]>Upper_quality)].index\n",
        "print(Outliers_quality_indices)\n",
        "\n",
        "# 12. quality\n",
        "remove_quality = data.drop(Outliers_quality_indices, inplace = True)"
      ],
      "metadata": {
        "colab": {
          "base_uri": "https://localhost:8080/"
        },
        "id": "lLSopJxgM2lO",
        "outputId": "f16eb723-5d42-433e-a7d5-58c5a1f88169"
      },
      "execution_count": null,
      "outputs": [
        {
          "output_type": "stream",
          "name": "stdout",
          "text": [
            "Int64Index([], dtype='int64')\n"
          ]
        }
      ]
    },
    {
      "cell_type": "code",
      "source": [
        "plt.boxplot(data[\"quality\"])\n",
        "plt.title(\"After removing outliers\")\n",
        "plt.show()"
      ],
      "metadata": {
        "id": "JEHsaxecIrfP"
      },
      "execution_count": null,
      "outputs": []
    },
    {
      "cell_type": "code",
      "source": [],
      "metadata": {
        "id": "wDYA_abC4T-v"
      },
      "execution_count": null,
      "outputs": []
    },
    {
      "cell_type": "code",
      "source": [],
      "metadata": {
        "id": "qQ5RjV9X4UBJ"
      },
      "execution_count": null,
      "outputs": []
    },
    {
      "cell_type": "code",
      "source": [],
      "metadata": {
        "id": "rlWvy-Y04UDk"
      },
      "execution_count": null,
      "outputs": []
    },
    {
      "cell_type": "code",
      "source": [],
      "metadata": {
        "id": "gIOxot8R4UGz"
      },
      "execution_count": null,
      "outputs": []
    },
    {
      "cell_type": "code",
      "source": [],
      "metadata": {
        "id": "amknfu7QQks2"
      },
      "execution_count": null,
      "outputs": []
    }
  ]
}